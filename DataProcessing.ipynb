{
 "cells": [
  {
   "cell_type": "code",
   "execution_count": 11,
   "metadata": {
    "collapsed": false
   },
   "outputs": [],
   "source": [
    "import os\n",
    "#import cv2\n",
    "import numpy as np\n",
    "import matplotlib.pyplot as plt\n",
    "import matplotlib.gridspec as gridspec\n",
    "import pandas as pd\n",
    "\n",
    "%matplotlib inline\n",
    "\n",
    "PATH = '/home/carnd/data/'\n",
    "BATCH = 512\n",
    "IMG_ROWS = 80\n",
    "IMG_COLS = 320\n",
    "IMG_CH = 3\n",
    "OFF_CENTER_IMG_ANGLE = .25\n",
    "TRANS_Y_RANGE = 20\n",
    "TRANS_X_RANGE = 50\n",
    "ANGLE_BIAS = .5\n",
    "ANGLE_PER_TRANS = .1\n",
    "BRIGHTNESS_RANGE = .1"
   ]
  },
  {
   "cell_type": "code",
   "execution_count": 12,
   "metadata": {
    "collapsed": true
   },
   "outputs": [],
   "source": [
    "\"\"\"\n",
    "READ THE DATA\n",
    "\"\"\"\n",
    "df = pd.read_csv(os.path.join(PATH,'driving_log.csv'))"
   ]
  },
  {
   "cell_type": "code",
   "execution_count": 13,
   "metadata": {
    "collapsed": false
   },
   "outputs": [
    {
     "data": {
      "image/png": "[encoded data removed]",
      "text/plain": [
       "<matplotlib.figure.Figure at 0x7f7bfd255978>"
      ]
     },
     "metadata": {},
     "output_type": "display_data"
    }
   ],
   "source": [
    "\n",
    "\"\"\"\n",
    "PLOT THE ANGLES DIRECTLY\n",
    "\"\"\"\n",
    "plt.bar(df.steering.index, df.steering.values, width=0.01)\n",
    "plt.show()"
   ]
  },
  {
   "cell_type": "code",
   "execution_count": 14,
   "metadata": {
    "collapsed": false
   },
   "outputs": [
    {
     "data": {
      "image/png": "[encoded data removed]",
      "text/plain": [
       "<matplotlib.figure.Figure at 0x7f7c022a8898>"
      ]
     },
     "metadata": {},
     "output_type": "display_data"
    }
   ],
   "source": [
    "\"\"\"\n",
    "PLOT THE HISTOGRAM\n",
    "\"\"\"\n",
    "df = pd.read_csv(os.path.join(PATH,'driving_log.csv'))\n",
    "hist = df.steering.value_counts()\n",
    "plt.bar(hist.index, hist.values, width=0.01)\n",
    "plt.show()"
   ]
  }
 ],
 "metadata": {
  "anaconda-cloud": {},
  "kernelspec": {
   "display_name": "Python 3",
   "language": "python",
   "name": "python3"
  },
  "language_info": {
   "codemirror_mode": {
    "name": "ipython",
    "version": 3
   },
   "file_extension": ".py",
   "mimetype": "text/x-python",
   "name": "python",
   "nbconvert_exporter": "python",
   "pygments_lexer": "ipython3",
   "version": "3.5.2"
  },
  "widgets": {
   "state": {},
   "version": "1.1.2"
  }
 },
 "nbformat": 4,
 "nbformat_minor": 2
}
